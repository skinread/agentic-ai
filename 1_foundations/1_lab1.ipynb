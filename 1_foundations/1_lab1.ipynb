{
 "cells": [
  {
   "cell_type": "markdown",
   "metadata": {},
   "source": [
    "# Welcome to the start of your adventure in Agentic AI"
   ]
  },
  {
   "cell_type": "markdown",
   "metadata": {},
   "source": [
    "<table style=\"margin: 0; text-align: left; width:100%\">\n",
    "    <tr>\n",
    "        <td style=\"width: 150px; height: 150px; vertical-align: middle;\">\n",
    "            <img src=\"../assets/stop.png\"  width=\"150\" height=\"150\" style=\"display: block;\" />\n",
    "        </td>\n",
    "        <td>\n",
    "            <h2 style=\"color:#9ac1e6;\">Are you ready for action??</h2>\n",
    "            <span style=\"color:#9ac1e6;\">Have you completed all the setup steps in the <a href=\"../setup/\">setup</a> folder?<br/>\n",
    "            Have you checked out the guides in the <a href=\"../guides/01_intro.ipynb\">guides</a> folder?<br/>\n",
    "            Well in that case, you're ready!!\n",
    "            </span>\n",
    "        </td>\n",
    "    </tr>\n",
    "</table>"
   ]
  },
  {
   "cell_type": "markdown",
   "metadata": {},
   "source": [
    "<table style=\"margin: 0; text-align: left; width:100%\">\n",
    "    <tr>\n",
    "        <td style=\"width: 150px; height: 150px; vertical-align: middle;\">\n",
    "            <img src=\"../assets/livingresource.png\" width=\"150\" height=\"150\" style=\"display: block;\" />\n",
    "        </td>\n",
    "        <td>\n",
    "            <h2 style=\"color:#9ac1e6;\">This code is a live resource - I may be making updates to this resource based on recent developments</h2>\n",
    "            <span style=\"color:#9ac1e6;\">Please feel free to use this Jupyter Notebook as a living resource. If you have any questions please don't hesitate to reach out. I also push updates regularly to GitHub. </span>\n",
    "        </td>\n",
    "    </tr>\n",
    "</table>"
   ]
  },
  {
   "cell_type": "markdown",
   "metadata": {},
   "source": [
    "### And please do remember to contact me if I can help\n",
    "\n",
    "Mike Nedelko: mike@syncopy.ai\n",
    "\n",
    "\n",
    "### New to Notebooks like this one? Head over to the guides folder!\n",
    "\n",
    "Just to check you've already added the Python and Jupyter extensions to Cursor, if not already installed:\n",
    "- Open extensions (View >> extensions)\n",
    "- Search for python, and when the results show, click on the ms-python one, and Install it if not already installed\n",
    "- Search for jupyter, and when the results show, click on the Microsoft one, and Install it if not already installed  \n",
    "Then View >> Explorer to bring back the File Explorer.\n",
    "\n",
    "And then:\n",
    "1. Click where it says \"Select Kernel\" near the top right, and select the option called `.venv (Python 3.12.9)` or similar, which should be the first choice or the most prominent choice. You may need to choose \"Python Environments\" first.\n",
    "2. Click in each \"cell\" below, starting with the cell immediately below this text, and press Shift+Enter to run\n",
    "3. Enjoy!\n",
    "\n",
    "After you click \"Select Kernel\", if there is no option like `.venv (Python 3.12.9)` then please do the following:  \n",
    "1. On Mac: From the Cursor menu, choose Settings >> VS Code Settings (NOTE: be sure to select `VSCode Settings` not `Cursor Settings`);  \n",
    "On Windows PC: From the File menu, choose Preferences >> VS Code Settings(NOTE: be sure to select `VSCode Settings` not `Cursor Settings`)  \n",
    "2. In the Settings search bar, type \"venv\"  \n",
    "3. In the field \"Path to folder with a list of Virtual Environments\" put the path to the project root, like C:\\Users\\username\\projects\\agenticAIeducation (on a Windows PC) or /Users/username/projects/agenticAIeducation (on Mac or Linux).  \n",
    "And then try again.\n",
    "\n",
    "Having problems with missing Python versions in that list? Have you ever used Anaconda before? It might be interferring. Quit Cursor, bring up a new command line, and make sure that your Anaconda environment is deactivated:    \n",
    "`conda deactivate`  \n",
    "And if you still have any problems with conda and python versions, it's possible that you will need to run this too:  \n",
    "`conda config --set auto_activate_base false`  \n",
    "and then from within the Agents directory, you should be able to run `uv python list` and see the Python 3.12 version."
   ]
  },
  {
   "cell_type": "code",
   "execution_count": 1,
   "metadata": {},
   "outputs": [],
   "source": [
    "# First let's do an import\n",
    "from dotenv import load_dotenv\n"
   ]
  },
  {
   "cell_type": "code",
   "execution_count": 2,
   "metadata": {},
   "outputs": [
    {
     "data": {
      "text/plain": [
       "True"
      ]
     },
     "execution_count": 2,
     "metadata": {},
     "output_type": "execute_result"
    }
   ],
   "source": [
    "# Next it's time to load the API keys into environment variables\n",
    "\n",
    "load_dotenv(override=True)"
   ]
  },
  {
   "cell_type": "code",
   "execution_count": 3,
   "metadata": {},
   "outputs": [
    {
     "name": "stdout",
     "output_type": "stream",
     "text": [
      "OpenAI API Key exists and begins sk-svcac\n"
     ]
    }
   ],
   "source": [
    "# Check the keys\n",
    "\n",
    "import os\n",
    "openai_api_key = os.getenv('OPENAI_API_KEY')\n",
    "\n",
    "if openai_api_key:\n",
    "    print(f\"OpenAI API Key exists and begins {openai_api_key[:8]}\")\n",
    "else:\n",
    "    print(\"OpenAI API Key not set - please head to the troubleshooting guide in the setup folder\")\n",
    "    \n"
   ]
  },
  {
   "cell_type": "code",
   "execution_count": 4,
   "metadata": {},
   "outputs": [],
   "source": [
    "# And now - the all important import statement\n",
    "# If you get an import error - head over to troubleshooting guide\n",
    "\n",
    "from openai import OpenAI"
   ]
  },
  {
   "cell_type": "code",
   "execution_count": 5,
   "metadata": {},
   "outputs": [],
   "source": [
    "# And now we'll create an instance of the OpenAI class\n",
    "# If you're not sure what it means to create an instance of a class - head over to the guides folder!\n",
    "# If you get a NameError - head over to the guides folder to learn about NameErrors\n",
    "\n",
    "openai = OpenAI()"
   ]
  },
  {
   "cell_type": "code",
   "execution_count": 6,
   "metadata": {},
   "outputs": [],
   "source": [
    "# Create a list of messages in the familiar OpenAI format\n",
    "\n",
    "messages = [{\"role\": \"user\", \"content\": \"What is 2+2?\"}]"
   ]
  },
  {
   "cell_type": "code",
   "execution_count": 7,
   "metadata": {},
   "outputs": [
    {
     "name": "stdout",
     "output_type": "stream",
     "text": [
      "2 + 2 equals 4.\n"
     ]
    }
   ],
   "source": [
    "# And now call it! Any problems, head to the troubleshooting guide\n",
    "# This uses GPT 4.1 nano, the incredibly cheap model\n",
    "\n",
    "response = openai.chat.completions.create(\n",
    "    model=\"gpt-4.1-nano\",\n",
    "    messages=messages\n",
    ")\n",
    "\n",
    "print(response.choices[0].message.content)\n"
   ]
  },
  {
   "cell_type": "code",
   "execution_count": 9,
   "metadata": {},
   "outputs": [],
   "source": [
    "# And now - let's ask for a question:\n",
    "\n",
    "question = \"Please propose a hard, challenging question to assess someone's IQ. Respond only with the question.\"\n",
    "messages = [{\"role\": \"user\", \"content\": question}]\n"
   ]
  },
  {
   "cell_type": "code",
   "execution_count": 10,
   "metadata": {},
   "outputs": [
    {
     "name": "stdout",
     "output_type": "stream",
     "text": [
      "If it takes 5 machines 5 minutes to make 5 widgets, how long would it take 100 machines to make 100 widgets?\n"
     ]
    }
   ],
   "source": [
    "# ask it - this uses GPT 4.1 mini, still cheap but more powerful than nano\n",
    "\n",
    "response = openai.chat.completions.create(\n",
    "    model=\"gpt-4.1-mini\",\n",
    "    messages=messages\n",
    ")\n",
    "\n",
    "question = response.choices[0].message.content\n",
    "\n",
    "print(question)\n"
   ]
  },
  {
   "cell_type": "code",
   "execution_count": 11,
   "metadata": {},
   "outputs": [],
   "source": [
    "# form a new messages list\n",
    "messages = [{\"role\": \"user\", \"content\": question}]\n"
   ]
  },
  {
   "cell_type": "code",
   "execution_count": 12,
   "metadata": {},
   "outputs": [
    {
     "name": "stdout",
     "output_type": "stream",
     "text": [
      "Let's analyze the problem step-by-step:\n",
      "\n",
      "**Given:**  \n",
      "- 5 machines take 5 minutes to make 5 widgets.\n",
      "\n",
      "**Goal:**  \n",
      "- Find how long 100 machines take to make 100 widgets.\n",
      "\n",
      "---\n",
      "\n",
      "### Step 1: Find the rate of one machine\n",
      "Since 5 machines make 5 widgets in 5 minutes, the total widget production rate is:\n",
      "\n",
      "\\[\n",
      "\\frac{5 \\text{ widgets}}{5 \\text{ minutes}} = 1 \\text{ widget per minute (collectively for 5 machines)}\n",
      "\\]\n",
      "\n",
      "So, 5 machines produce 1 widget per minute together.\n",
      "\n",
      "Each machine’s rate is:\n",
      "\n",
      "\\[\n",
      "\\frac{1 \\text{ widget per minute}}{5 \\text{ machines}} = \\frac{1}{5} \\text{ widget per minute per machine}\n",
      "\\]\n",
      "\n",
      "---\n",
      "\n",
      "### Step 2: Find production rate for 100 machines\n",
      "The total production rate of 100 machines is:\n",
      "\n",
      "\\[\n",
      "100 \\times \\frac{1}{5} = 20 \\text{ widgets per minute}\n",
      "\\]\n",
      "\n",
      "---\n",
      "\n",
      "### Step 3: Find time to produce 100 widgets\n",
      "If 100 machines produce 20 widgets per minute, then time \\( t \\) to produce 100 widgets is:\n",
      "\n",
      "\\[\n",
      "t = \\frac{100 \\text{ widgets}}{20 \\text{ widgets/minute}} = 5 \\text{ minutes}\n",
      "\\]\n",
      "\n",
      "---\n",
      "\n",
      "### **Answer:**\n",
      "\n",
      "It will take **5 minutes** for 100 machines to make 100 widgets.\n"
     ]
    }
   ],
   "source": [
    "# Ask it again\n",
    "\n",
    "response = openai.chat.completions.create(\n",
    "    model=\"gpt-4.1-mini\",\n",
    "    messages=messages\n",
    ")\n",
    "\n",
    "answer = response.choices[0].message.content\n",
    "print(answer)\n"
   ]
  },
  {
   "cell_type": "code",
   "execution_count": 13,
   "metadata": {},
   "outputs": [
    {
     "data": {
      "text/markdown": [
       "Let's analyze the problem step-by-step:\n",
       "\n",
       "**Given:**  \n",
       "- 5 machines take 5 minutes to make 5 widgets.\n",
       "\n",
       "**Goal:**  \n",
       "- Find how long 100 machines take to make 100 widgets.\n",
       "\n",
       "---\n",
       "\n",
       "### Step 1: Find the rate of one machine\n",
       "Since 5 machines make 5 widgets in 5 minutes, the total widget production rate is:\n",
       "\n",
       "\\[\n",
       "\\frac{5 \\text{ widgets}}{5 \\text{ minutes}} = 1 \\text{ widget per minute (collectively for 5 machines)}\n",
       "\\]\n",
       "\n",
       "So, 5 machines produce 1 widget per minute together.\n",
       "\n",
       "Each machine’s rate is:\n",
       "\n",
       "\\[\n",
       "\\frac{1 \\text{ widget per minute}}{5 \\text{ machines}} = \\frac{1}{5} \\text{ widget per minute per machine}\n",
       "\\]\n",
       "\n",
       "---\n",
       "\n",
       "### Step 2: Find production rate for 100 machines\n",
       "The total production rate of 100 machines is:\n",
       "\n",
       "\\[\n",
       "100 \\times \\frac{1}{5} = 20 \\text{ widgets per minute}\n",
       "\\]\n",
       "\n",
       "---\n",
       "\n",
       "### Step 3: Find time to produce 100 widgets\n",
       "If 100 machines produce 20 widgets per minute, then time \\( t \\) to produce 100 widgets is:\n",
       "\n",
       "\\[\n",
       "t = \\frac{100 \\text{ widgets}}{20 \\text{ widgets/minute}} = 5 \\text{ minutes}\n",
       "\\]\n",
       "\n",
       "---\n",
       "\n",
       "### **Answer:**\n",
       "\n",
       "It will take **5 minutes** for 100 machines to make 100 widgets."
      ],
      "text/plain": [
       "<IPython.core.display.Markdown object>"
      ]
     },
     "metadata": {},
     "output_type": "display_data"
    }
   ],
   "source": [
    "from IPython.display import Markdown, display\n",
    "\n",
    "display(Markdown(answer))\n",
    "\n"
   ]
  },
  {
   "cell_type": "markdown",
   "metadata": {},
   "source": [
    "# Congratulations!\n",
    "\n",
    "That was a small, simple step in the direction of Agentic AI, with your new environment!\n",
    "\n",
    "Next time things get more interesting..."
   ]
  },
  {
   "cell_type": "markdown",
   "metadata": {},
   "source": [
    "<table style=\"margin: 0; text-align: left; width:100%\">\n",
    "    <tr>\n",
    "        <td style=\"width: 150px; height: 150px; vertical-align: middle;\">\n",
    "            <img src=\"../assets/exercise.png\" width=\"150\" height=\"150\" style=\"display: block;\" />\n",
    "        </td>\n",
    "        <td>\n",
    "            <h2 style=\"color:#9ac1e6;\">Exercise</h2>\n",
    "            <span style=\"color:#9ac1e6;\">Now try this commercial application:<br/>\n",
    "            First ask the LLM to pick a business problem you currentluy have that might be worth exploring for an Agentic AI opportunity.<br/>\n",
    "            Then ask the LLM to present a pain-point in that industry - something challenging that might be ripe for an Agentic solution.<br/>\n",
    "            Finally have 3 third LLM call propose the Agentic AI solution.\n",
    "            </span>\n",
    "        </td>\n",
    "    </tr>\n",
    "</table>"
   ]
  },
  {
   "cell_type": "code",
   "execution_count": 14,
   "metadata": {},
   "outputs": [
    {
     "data": {
      "text/markdown": [
       "A key business pain point in scaling marketing operations is **inefficient campaign management across multiple channels**, leading to inconsistent messaging, duplication of efforts, and difficulty in measuring overall performance. As marketing teams grow and campaigns expand, coordinating content, budgets, timelines, and analytics across platforms becomes complex, often resulting in wasted resources and missed opportunities for optimization."
      ],
      "text/plain": [
       "<IPython.core.display.Markdown object>"
      ]
     },
     "metadata": {},
     "output_type": "display_data"
    },
    {
     "data": {
      "text/markdown": [
       "**Agentic AI Solution Proposal: An Intelligent Multi-Channel Campaign Orchestrator**\n",
       "\n",
       "**Business Idea Name:** *Campaign Maestro AI*\n",
       "\n",
       "### Overview\n",
       "*Campaign Maestro AI* is an autonomous, agentic AI platform designed to streamline and optimize campaign management across multiple marketing channels. It acts as a central nerve center that plans, coordinates, executes, and continuously optimizes marketing campaigns by intelligently handling content alignment, budget allocation, scheduling, and performance analytics.\n",
       "\n",
       "### Key Features\n",
       "- **Unified Campaign Planning:** Automatically consolidate campaign goals, messaging frameworks, and content assets into a centralized plan that ensures consistency across email, social media, PPC, SEO, and offline channels.\n",
       "- **Dynamic Budget Allocation:** Continuously reallocate budgets in real-time based on channel performance predictions and ROI analytics, ensuring maximal efficiency without manual intervention.\n",
       "- **Cross-Channel Timeline Management:** Automatically create and adjust schedules/timelines by detecting dependencies and resource availability, reducing conflicts and missed deadlines.\n",
       "- **Message Consistency Engine:** Uses NLP to analyze and harmonize messaging tone and content across channels, preventing duplication and fragmentation.\n",
       "- **Autonomous Performance Monitoring & Reporting:** Tracks campaign KPIs and performs root-cause analysis without human prompts; issues actionable recommendations or autonomously adjusts tactics.\n",
       "- **Collaboration & Workflow Automation:** Integrates with existing CRM, CMS, and project management tools to enable seamless hand-offs and transparency for growing marketing teams.\n",
       "\n",
       "### Why It Solves the Pain Point:\n",
       "By autonomously handling the complexity and coordination burden of multi-channel campaigns, Campaign Maestro AI eradicates inefficient manual orchestration, eliminating duplicated efforts and inconsistent messaging. Its real-time, data-driven decision-making maximizes resource utilization and delivers a unified view of campaign efficacy, enabling continuous optimization and better ROI.\n",
       "\n",
       "### Potential Revenue Model\n",
       "- **SaaS subscription** with tiered pricing based on number of channels and team size.\n",
       "- Add-ons for advanced analytics, custom AI model training, and integration connectors.\n",
       "- Consultancy services for onboarding and campaign strategy optimization.\n",
       "\n",
       "---\n",
       "\n",
       "This agentic AI solution directly addresses the business pain by providing an automated, intelligent system to scale marketing operations effectively, turning complexity into a competitive advantage."
      ],
      "text/plain": [
       "<IPython.core.display.Markdown object>"
      ]
     },
     "metadata": {},
     "output_type": "display_data"
    },
    {
     "data": {
      "text/markdown": [
       "Certainly! Below is a concise example of an agentic AI agent using the OpenAI SDK (in Python) that focuses on **automating unified campaign planning and messaging consistency** — a key pain point in scaling multi-channel marketing campaigns. The agent ingests campaign goals and content drafts, analyzes messaging consistency across channels, and suggests harmonized messaging to reduce duplication and fragmentation.\n",
       "\n",
       "```python\n",
       "from openai import OpenAI\n",
       "\n",
       "client = OpenAI()\n",
       "\n",
       "class CampaignMaestroAgent:\n",
       "    def __init__(self, campaign_goals, channel_contents):\n",
       "        \"\"\"\n",
       "        campaign_goals: str - summary of overall campaign objectives\n",
       "        channel_contents: dict - {channel_name: content_draft_str}\n",
       "        \"\"\"\n",
       "        self.campaign_goals = campaign_goals\n",
       "        self.channel_contents = channel_contents\n",
       "\n",
       "    def analyze_and_harmonize_messages(self):\n",
       "        \"\"\"\n",
       "        Uses OpenAI GPT to:\n",
       "        1. Analyze tone and key messaging in each channel's content.\n",
       "        2. Identify inconsistencies or duplications.\n",
       "        3. Propose harmonized messaging aligned with campaign goals.\n",
       "        \"\"\"\n",
       "        prompt = f\"\"\"\n",
       "You are a marketing AI assistant.\n",
       "\n",
       "Campaign Goals:\n",
       "{self.campaign_goals}\n",
       "\n",
       "Content drafts by channel:\n",
       "{chr(10).join([f\"- {ch}: {content}\" for ch, content in self.channel_contents.items()])}\n",
       "\n",
       "Task:\n",
       "1. Analyze each channel's tone and messaging for consistency.\n",
       "2. Identify any duplications or contradictions.\n",
       "3. Provide a unified messaging framework and recommendations for alignment,\n",
       "   ensuring the campaign goals are consistently reflected across channels.\n",
       "\n",
       "Respond with:\n",
       "- Summary of inconsistencies\n",
       "- Proposed unified messaging framework\n",
       "- Concrete suggestions to harmonize content per channel\n",
       "\"\"\"\n",
       "        response = client.chat.completions.create(\n",
       "            model=\"gpt-4o-mini\",\n",
       "            messages=[{\"role\": \"user\", \"content\": prompt}],\n",
       "            temperature=0.3,\n",
       "            max_tokens=500,\n",
       "        )\n",
       "        return response.choices[0].message.content\n",
       "\n",
       "\n",
       "# Example usage:\n",
       "if __name__ == \"__main__\":\n",
       "    campaign_goals = \"Increase brand awareness by promoting eco-friendly packaging across social media, email, and PPC ads.\"\n",
       "    channel_contents = {\n",
       "        \"Email\": \"Our new eco-friendly packaging reduces waste and helps save the planet.\",\n",
       "        \"Social Media\": \"Save the planet with our latest sustainable products!\",\n",
       "        \"PPC\": \"Eco packaging now available. Buy sustainable today!\"\n",
       "    }\n",
       "\n",
       "    agent = CampaignMaestroAgent(campaign_goals, channel_contents)\n",
       "    harmony_report = agent.analyze_and_harmonize_messages()\n",
       "    print(harmony_report)\n",
       "```\n",
       "\n",
       "---\n",
       "\n",
       "### Explanation:\n",
       "\n",
       "- The agent addresses **messaging inconsistency and duplication** by reviewing all channel content together within the context of campaign goals.\n",
       "- It uses an LLM prompt that instructs analysis and unification, yielding actionable recommendations.\n",
       "- This small-scale autonomous agent can be integrated as a micro-service within *Campaign Maestro AI*'s broader orchestrator, enabling seamless intelligent campaign messaging alignment. \n",
       "\n",
       "Let me know if you'd like code examples for other pain points like budget reallocation or timeline management!"
      ],
      "text/plain": [
       "<IPython.core.display.Markdown object>"
      ]
     },
     "metadata": {},
     "output_type": "display_data"
    }
   ],
   "source": [
    "# First create the messages:\n",
    "\n",
    "messages = [{\"role\": \"user\", \"content\": \"Propose a business pain point in the area of 'scaling marketing operations' \"}]\n",
    "\n",
    "# Then make the first call:\n",
    "\n",
    "response = openai.chat.completions.create(\n",
    "    model=\"gpt-4.1-mini\",\n",
    "    messages=messages\n",
    ")\n",
    "\n",
    "# Then read the business idea:\n",
    "\n",
    "pain_point = response.choices[0].message.content\n",
    "\n",
    "display(Markdown(pain_point))\n",
    "\n",
    "# And repeat!\n",
    "\n",
    "messages =[{\"role\": \"user\", \"content\": f\"Given the {pain_point}, propose one agentic AI solution that can be turned into a business idea?\"}]\n",
    "\n",
    "# Then make the second call:\n",
    "\n",
    "response = openai.chat.completions.create(\n",
    "    model=\"gpt-4.1-mini\",\n",
    "    messages=messages\n",
    ")\n",
    "\n",
    "solution_proposal= response.choices[0].message.content\n",
    "\n",
    "display(Markdown(solution_proposal))\n",
    "\n",
    "# And repeat!\n",
    "\n",
    "messages =[{\"role\": \"user\", \"content\": f\"Given the {solution_proposal}, write an small agentic agent using the OpenAI SDK that can be used to solve the {pain_point}. Keep the solution brief and to the point.\"}]\n",
    "\n",
    "# Then make the third call:\n",
    "\n",
    "response = openai.chat.completions.create(\n",
    "    model=\"gpt-4.1-mini\",\n",
    "    messages=messages\n",
    ")\n",
    "\n",
    "final_solution = response.choices[0].message.content\n",
    "\n",
    "display(Markdown(final_solution))"
   ]
  },
  {
   "cell_type": "markdown",
   "metadata": {},
   "source": []
  }
 ],
 "metadata": {
  "kernelspec": {
   "display_name": ".venv",
   "language": "python",
   "name": "python3"
  },
  "language_info": {
   "codemirror_mode": {
    "name": "ipython",
    "version": 3
   },
   "file_extension": ".py",
   "mimetype": "text/x-python",
   "name": "python",
   "nbconvert_exporter": "python",
   "pygments_lexer": "ipython3",
   "version": "3.12.10"
  }
 },
 "nbformat": 4,
 "nbformat_minor": 2
}
