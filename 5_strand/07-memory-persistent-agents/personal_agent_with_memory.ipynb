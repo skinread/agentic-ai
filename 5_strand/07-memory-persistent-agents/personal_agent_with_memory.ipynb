{
 "cells": [
  {
   "cell_type": "markdown",
   "id": "8797de2a",
   "metadata": {},
   "source": [
    "# Persisting memory across Strands Agents sessions\n",
    "\n",
    "In this example you will learn how to persist memory across different sessions in your Strands Agents. \n",
    "\n",
    "We will use the use case of an agent that does web search using a `duckduckgo` search API.\n",
    "\n",
    "In this notebook, we will:\n",
    "- Explore the capabilities of a memory-powered Strands agent.\n",
    "- Learn how to store, retrieve, and list memories.\n",
    "- Understand how to perform web searches via the agent.\n",
    "- Interact with the agent in an interactive loop.\n",
    "\n",
    "\n",
    "### Usage Examples\n",
    "\n",
    "Storing memories:\n",
    "```\n",
    "Remember that I prefer tea over coffee\n",
    "```\n",
    "\n",
    "Retrieving memories:\n",
    "```\n",
    "What do I prefer to drink?\n",
    "```\n",
    "\n",
    "Listing all memories:\n",
    "```\n",
    "Show me everything you remember about me\n",
    "```\n",
    "\n",
    "### Tips for Memory Usage\n",
    "\n",
    "- Be explicit when asking the agent to remember information\n",
    "- Use specific queries to retrieve relevant memories\n",
    "- Memory persistence enables more natural and contextual conversations"
   ]
  },
  {
   "cell_type": "markdown",
   "id": "c468364c",
   "metadata": {},
   "source": [
    "## Setup and prerequisites\n",
    "\n",
    "### Prerequisites\n",
    "* Python 3.10+\n",
    "* AWS account and AWS credentials configured in the environment\n",
    "* Anthropic Claude 3.7 enabled on Amazon Bedrock\n",
    "* IAM role with permissions to create Amazon Bedrock Knowledge Base, Amazon S3 bucket and Amazon DynamoDB\n",
    "\n",
    "Let's now install the requirement packages for our Strands Agent"
   ]
  },
  {
   "cell_type": "code",
   "execution_count": null,
   "id": "ae029383",
   "metadata": {},
   "outputs": [],
   "source": [
    "# Install the required packages\n",
    "!uv pip install -r requirements.txt"
   ]
  },
  {
   "cell_type": "code",
   "execution_count": null,
   "id": "11c92217",
   "metadata": {},
   "outputs": [],
   "source": [
    "\n",
    "# Import Required Libraries\n",
    "import os\n",
    "from strands import Agent, tool\n",
    "from strands.models import bedrock\n",
    "from strands_tools import mem0_memory\n",
    "\n",
    "from ddgs import DDGS\n",
    "from ddgs.exceptions import DDGSException, RatelimitException\n",
    "\n",
    "from opensearchpy import OpenSearch, RequestsHttpConnection, AWSV4SignerAuth\n",
    "from sentence_transformers import SentenceTransformer\n",
    "\n",
    "bedrock.DEFAULT_BEDROCK_MODEL_ID = \"apac.anthropic.claude-3-7-sonnet-20250219-v1:0\" #Optional: Set a default model for Bedrock\n",
    "embedding_model = SentenceTransformer('all-MiniLM-L6-v2') # Initialize embedding model for vector operations"
   ]
  },
  {
   "cell_type": "markdown",
   "id": "265d4267",
   "metadata": {},
   "source": [
    "## Mem0 Configuration\n",
    "\n",
    "### Memory Backend Options\n",
    "\n",
    "The Mem0 Memory Tool supports three different backend configurations:\n",
    "\n",
    "1. **[OpenSearch](https://aws.amazon.com/opensearch-service/features/serverless/)** (Recommended for AWS environments):\n",
    "   - Requires AWS credentials and OpenSearch configuration\n",
    "   - Set `OPENSEARCH_HOST` and optionally `AWS_REGION` (defaults to us-west-2)\n",
    "\n",
    "2. **[FAISS]((https://faiss.ai/index.html))** (Default for local development):\n",
    "   - Uses FAISS as the local vector store backend\n",
    "   - Requires faiss-cpu package for local vector storage\n",
    "   - No additional configuration needed\n",
    "\n",
    "3. **Mem0 Platform**:\n",
    "   - Uses the [Mem0 Platform API](https://docs.mem0.ai/platform/quickstart) for memory management\n",
    "   - Requires a Mem0 API key : `MEM0_API_KEY` in the environment variables\n",
    "\n",
    "\n",
    "### Environment Configuration\n",
    "\n",
    "| Environment Variable | Description | Default | Required For |\n",
    "|---------------------|-------------|----------|--------------|\n",
    "| OPENSEARCH_HOST | OpenSearch Serverless Host URL | None | OpenSearch |\n",
    "| AWS_REGION | AWS Region for OpenSearch | us-west-2 | OpenSearch |\n",
    "| MEM0_API_KEY | Mem0 Platform API key | None | Mem0 Platform |\n",
    "| DEV | Enable development mode | false | All modes |\n",
    "\n",
    "\n",
    "For the scope of this lab, we can use 2 options as a backend for memory management:\n",
    "### Option 1. [Opensearch Serverless](https://aws.amazon.com/opensearch-service/features/serverless/) \n",
    "\n",
    "This will be our setup architecture for AOSS: \n",
    "\n",
    "<div style=\"text-align:left\">\n",
    "    <img src=\"images/arch_AOSS.png\" width=\"65%\" />\n",
    "</div>\n",
    "\n"
   ]
  },
  {
   "cell_type": "markdown",
   "id": "86b45276",
   "metadata": {},
   "source": [
    "## Alternative: Direct OpenSearch Implementation\n",
    "\n",
    "For users who prefer to use OpenSearch directly without the Mem0 abstraction layer, we'll also show how to create custom OpenSearch tools. This gives you more control over the vector storage and retrieval operations.\n"
   ]
  },
  {
   "cell_type": "code",
   "execution_count": null,
   "id": "1cc2bbe4-0a89-4b15-93f3-4baa9fc804c0",
   "metadata": {},
   "outputs": [],
   "source": [
    "# OR - Run the script to Create Opensearch Serverless resource in your AWS Account\n",
    "#!sh prereqs/deploy_OSS.sh Mac Users\n",
    "! \"E:\\Program Files\\Git\\bin\\bash.exe\" -c prereqs/deploy_OSS.sh "
   ]
  },
  {
   "cell_type": "code",
   "execution_count": null,
   "id": "0468a998-ebe9-4277-913f-6ea69de8e6e1",
   "metadata": {},
   "outputs": [],
   "source": [
    "# You can manually define your Opensearch Host \n",
    "os.environ[\"OPENSEARCH_HOST\"] = \"[please neter your open search host]\""
   ]
  },
  {
   "cell_type": "code",
   "execution_count": null,
   "id": "075b3163-cd88-4054-969c-0075dfc1dd84",
   "metadata": {},
   "outputs": [],
   "source": [
    "# Option 1: Opensearch Serverless\n",
    "from dotenv import load_dotenv\n",
    "load_dotenv() # take Opensearch environment variables"
   ]
  },
  {
   "cell_type": "markdown",
   "id": "7dc00d27-4a5b-44fb-9bfc-3b2e906c21f5",
   "metadata": {},
   "source": [
    "\n",
    "### Option 2 [Mem0 Platform](https://docs.mem0.ai/platform):\n",
    "\n",
    "#### [NOTE]: This is not Needed if you have already deployed the Opensearch Serverless option.\n",
    "\n",
    "As an alternative, you can create Mem0 API keys by following the steps [here](https://docs.mem0.ai/platform/quickstart#2-api-key-setup) and add it as an environment variable **MEM0_API_KEY**.\n",
    "This would be the architecture of the setup for Mem0 Platform:\n",
    "\n",
    "<div style=\"text-align:left\">\n",
    "    <img src=\"images/arch_mem0.png\" width=\"65%\" />\n",
    "</div>\n",
    "\n",
    "\n",
    "To enable the agent's functionality, we need to configure environment variables for AWS credentials and OpenSearch / Mem0 Platform. These variables are used for memory storage and retrieval."
   ]
  },
  {
   "cell_type": "markdown",
   "id": "cd57217f",
   "metadata": {},
   "source": [
    "## Alternative System Prompt for OpenSearch\n",
    "\n",
    "When using direct OpenSearch tools, we need to update the system prompt to reference the correct tool names.\n"
   ]
  },
  {
   "cell_type": "code",
   "execution_count": null,
   "id": "c99dae50-ed8b-4474-b5d6-9cc16981b436",
   "metadata": {},
   "outputs": [],
   "source": [
    "# Option 2: Mem0 API key\n",
    "\n",
    "os.environ[\"MEM0_API_KEY\"] = \"m0-Tnf0EFckPPLsB2tgC2ctVJ8psgfuNhRgU13wLfK6\""
   ]
  },
  {
   "cell_type": "markdown",
   "id": "5679ce42",
   "metadata": {},
   "source": [
    "## Define System Prompt\n",
    "\n",
    "The `SYSTEM_PROMPT` variable defines the behavior and capabilities of the memory agent. This prompt guides the agent to provide personalized responses based on stored memories and perform web searches when necessary."
   ]
  },
  {
   "cell_type": "code",
   "execution_count": null,
   "id": "01951bc0",
   "metadata": {},
   "outputs": [],
   "source": [
    "# Define a focused system prompt for memory operations\n",
    "SYSTEM_PROMPT = \"\"\"You are a helpful personal assistant for a user. Your task is to assist the user by providing personalized responses based on their history. \n",
    "\n",
    "Capabilities:\n",
    "- You can store information using the mem0_memory tool (action=\"store\").\n",
    "- You can retrieve relevant memories using the mem0_memory tool (action=\"retrieve\").\n",
    "- You can use duckduckgo_search to find information on the web.\n",
    "\n",
    "Key Rules:\n",
    "- Be conversational and natural in your responses.\n",
    "- Always retrieve memories before responding to the user and use them to inform your response.\n",
    "- Store any new user information and user preferences in mem0_memory.\n",
    "- Only share relevant information.\n",
    "- Politely indicate when you don't have the information.\n",
    "\"\"\""
   ]
  },
  {
   "cell_type": "markdown",
   "id": "334a7192",
   "metadata": {},
   "source": [
    "## Define Web Search Tool\n",
    "\n",
    "The `websearch` tool using [Duckduckgo Search API](https://github.com/deedy5/duckduckgo_search) function allows the agent to perform web searches. This function handles exceptions and returns search results or appropriate error messages."
   ]
  },
  {
   "cell_type": "markdown",
   "id": "bcf5d26e",
   "metadata": {},
   "source": [
    "## Alternative: Create Memory Agent with Direct OpenSearch\n",
    "\n",
    "Here's an alternative implementation that uses direct OpenSearch operations instead of the Mem0 abstraction layer. This approach gives you more control over the vector storage and retrieval process.\n"
   ]
  },
  {
   "cell_type": "code",
   "execution_count": null,
   "id": "8bbe681b",
   "metadata": {},
   "outputs": [],
   "source": [
    "@tool\n",
    "def websearch(\n",
    "    keywords: str,\n",
    "    region: str = \"us-en\",\n",
    "    max_results: int | None = None,\n",
    ") -> str:\n",
    "    \"\"\"Search the web to get updated information.\n",
    "    Args:\n",
    "        keywords (str): The search query keywords.\n",
    "        region (str): The search region: wt-wt, us-en, uk-en, ru-ru, etc..\n",
    "        max_results (int | None): The maximum number of results to return.\n",
    "    Returns:\n",
    "        List of dictionaries with search results.\n",
    "    \"\"\"\n",
    "    try:\n",
    "        results = DDGS().text(keywords, region=region, max_results=max_results)\n",
    "        return results if results else \"No results found.\"\n",
    "    except RatelimitException:\n",
    "        return \"RatelimitException: Please try again after a short delay.\"\n",
    "    except DDGSException as d:\n",
    "        return f\"DuckDuckGoSearchException: {d}\"\n",
    "    except Exception as e:\n",
    "        return f\"Exception: {e}\""
   ]
  },
  {
   "cell_type": "markdown",
   "id": "3bd7828a",
   "metadata": {},
   "source": [
    "## Create Memory Agent\n",
    "\n",
    "We will now initialize the memory-focused agent using the defined tools and system prompt. The Strands agent is capable of:\n",
    "1. Storing and retrieving memories based on context. It uses memory to create more personalized and contextual AI interactions.\n",
    "2. Performing web searches using DuckDuckGo to give updated information."
   ]
  },
  {
   "cell_type": "code",
   "execution_count": null,
   "id": "e860d7f3",
   "metadata": {},
   "outputs": [],
   "source": [
    "# Create an agent with memory, websearch tool\n",
    "USER_ID = \"PeterRabbit\" # Replace with actual user ID\n",
    "\n",
    "memory_agent = Agent(\n",
    "    system_prompt=SYSTEM_PROMPT,\n",
    "    model=\"apac.anthropic.claude-3-7-sonnet-20250219-v1:0\",  # Optional: Specify the model ID\n",
    "    tools=[mem0_memory, websearch],\n",
    ")"
   ]
  },
  {
   "cell_type": "markdown",
   "id": "8ea93f03",
   "metadata": {},
   "source": [
    "## Demonstrate Memory Operations\n",
    "\n",
    "The following examples demonstrate how to store, retrieve, and list memories using the memory agent.\n",
    "\n",
    "- **store**: Save important information for later retrieval\n",
    "  - Store user preferences\n",
    "  - Remember important facts\n",
    "  - Maintain conversation context\n",
    "\n",
    "- **retrieve**: Access relevant memories based on queries\n",
    "  - Find previously stored information\n",
    "  - Provide personalized responses based on user history\n",
    "\n",
    "- **list**: View all stored memories\n",
    "  - See what information has been retained\n",
    "  - Audit stored memories"
   ]
  },
  {
   "cell_type": "code",
   "execution_count": null,
   "id": "825910bf",
   "metadata": {},
   "outputs": [],
   "source": [
    "# Store initial memories to demonstrate retrieval\n",
    "memory_agent.tool.mem0_memory(\n",
    "    action=\"store\", content=f\"The user's name is {USER_ID}.\", user_id=USER_ID\n",
    ")\n",
    "memory_agent.tool.mem0_memory(\n",
    "    action=\"store\", \n",
    "    content=\"I like to drink tea more than coffee.\", \n",
    "    user_id=USER_ID\n",
    ")"
   ]
  },
  {
   "cell_type": "code",
   "execution_count": null,
   "id": "f92c7f95",
   "metadata": {},
   "outputs": [],
   "source": [
    "# Retrieve memories\n",
    "retrieved_memories = memory_agent.tool.mem0_memory(\n",
    "    action=\"retrieve\", query=\"What is the user's name?\", user_id=USER_ID\n",
    ")\n",
    "print(\"Retrieved Memories:\", retrieved_memories)"
   ]
  },
  {
   "cell_type": "code",
   "execution_count": null,
   "id": "c7047852",
   "metadata": {},
   "outputs": [],
   "source": [
    "# Retrieve memories about preferences\n",
    "memory_agent.tool.mem0_memory(\n",
    "    action=\"retrieve\",\n",
    "    query=\"What are the my drink preferences?\",\n",
    "    user_id=USER_ID\n",
    ")"
   ]
  },
  {
   "cell_type": "code",
   "execution_count": null,
   "id": "26c5dc92",
   "metadata": {},
   "outputs": [],
   "source": [
    "# Ask the agent a question\n",
    "response = memory_agent(\"What are the events happening in the New York today?\")\n",
    "print(response)"
   ]
  },
  {
   "cell_type": "code",
   "execution_count": null,
   "id": "790d8d37",
   "metadata": {},
   "outputs": [],
   "source": [
    "\n",
    "# List all stored memories\n",
    "print(\"All Stored Memories:\")\n",
    "all_memories = memory_agent.tool.mem0_memory(\n",
    "    action=\"list\", user_id=USER_ID\n",
    ")"
   ]
  },
  {
   "cell_type": "markdown",
   "id": "f5c72c91",
   "metadata": {},
   "source": [
    "## Interactive Agent Usage\n",
    "\n",
    "Finally, we provide an interactive loop for users to interact with the memory agent. Users can store new memories, retrieve existing ones, or list all stored memories.\n",
    "\n",
    "To test interactive usage: \n",
    "1. Install the requirements: `pip install -r requirements.txt`\n",
    "1. Run the python file `personal_agent_with_memory.py`. "
   ]
  },
  {
   "cell_type": "markdown",
   "id": "856ea59c",
   "metadata": {},
   "source": [
    "## Conclusion\n",
    "\n",
    "This notebook demonstrates how to create a personal agent with memory capabilities using the Strands framework. The agent can:\n",
    "\n",
    "1. Store information about the user\n",
    "2. Retrieve relevant memories based on context\n",
    "3. Search the web for additional information\n",
    "4. Provide personalized responses\n",
    "\n",
    "By combining these capabilities, the agent can maintain context across conversations and provide more personalized assistance over time."
   ]
  },
  {
   "cell_type": "markdown",
   "id": "be6fd03a-26cc-4190-bb09-872c6767f972",
   "metadata": {},
   "source": [
    "### Cleanup\n",
    "\n",
    "Run this bash script to clean up the Opensearch Serverless resources. You don't need to run this if you used the \"MEM0_PLATFORM_API\"."
   ]
  },
  {
   "cell_type": "code",
   "execution_count": 1,
   "id": "b6113d4f-45d2-46a5-9853-335b26da0a43",
   "metadata": {},
   "outputs": [
    {
     "name": "stdout",
     "output_type": "stream",
     "text": [
      "Removing Opensearch Serverless resources ...\n",
      "Configuration loaded: {'opensearch_collection_name': 'memory-store', 'opensearch_description': 'Memory vector store'}\n",
      "Deleting OpenSearch Serverless collection: memory-store\n",
      "Found collection ID: imrn4dbqvyeitffna7uh\n",
      "Collection memory-store deleted successfully!\n",
      "Waiting for collection deletion to complete...\n",
      "Access policy memory-store-ap-1755168888 deleted successfully!\n",
      "Network policy memory-store-np-1755168888 deleted successfully!\n",
      "Encryption policy memory-store-sp-1755168888 deleted successfully!\n",
      "OpenSearch Serverless resources cleanup completed!\n",
      "Deleted SSM parameter: memory-store-hostname\n",
      "Deleted SSM parameter: memory-store-id\n",
      "Deleted SSM parameter: memory-store-arn\n",
      "Deleted SSM parameter: memory-store-name\n",
      "Deleted SSM parameter: memory-store-encryption_policy\n",
      "Deleted SSM parameter: memory-store-network_policy\n",
      "Deleted SSM parameter: memory-store-access_policy\n",
      "Removed .env file: e:\\OneDrive\\OneDriveOnitbuddy\\OneDrive\\workbench\\exampletest\\agenticAIeducation\\5_strand\\07-memory-persistent-agents\\.env\n"
     ]
    }
   ],
   "source": [
    "#!sh prereqs/cleanup_OSS.sh #Mac Users\n",
    "! \"E:\\Program Files\\Git\\bin\\bash.exe\" -c prereqs/cleanup_OSS.sh "
   ]
  }
 ],
 "metadata": {
  "kernelspec": {
   "display_name": "Agents (uv) - Updated",
   "language": "python",
   "name": "agents"
  },
  "language_info": {
   "codemirror_mode": {
    "name": "ipython",
    "version": 3
   },
   "file_extension": ".py",
   "mimetype": "text/x-python",
   "name": "python",
   "nbconvert_exporter": "python",
   "pygments_lexer": "ipython3",
   "version": "3.13.5"
  }
 },
 "nbformat": 4,
 "nbformat_minor": 5
}
